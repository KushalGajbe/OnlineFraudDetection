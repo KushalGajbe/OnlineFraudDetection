{
 "cells": [
  {
   "cell_type": "code",
   "execution_count": 1,
   "id": "13c7db35",
   "metadata": {},
   "outputs": [],
   "source": [
    "import numpy as np\n",
    "import matplotlib.pyplot as plt\n",
    "import pandas as pd\n",
    "from sklearn.model_selection import train_test_split\n",
    "%matplotlib inline"
   ]
  },
  {
   "cell_type": "code",
   "execution_count": 2,
   "id": "c4efe94b",
   "metadata": {},
   "outputs": [],
   "source": [
    "fraud_df=pd.read_csv('onlinefraud.csv')"
   ]
  },
  {
   "cell_type": "code",
   "execution_count": 3,
   "id": "1c5bbf63",
   "metadata": {},
   "outputs": [
    {
     "data": {
      "text/html": [
       "<div>\n",
       "<style scoped>\n",
       "    .dataframe tbody tr th:only-of-type {\n",
       "        vertical-align: middle;\n",
       "    }\n",
       "\n",
       "    .dataframe tbody tr th {\n",
       "        vertical-align: top;\n",
       "    }\n",
       "\n",
       "    .dataframe thead th {\n",
       "        text-align: right;\n",
       "    }\n",
       "</style>\n",
       "<table border=\"1\" class=\"dataframe\">\n",
       "  <thead>\n",
       "    <tr style=\"text-align: right;\">\n",
       "      <th></th>\n",
       "      <th>step</th>\n",
       "      <th>type</th>\n",
       "      <th>amount</th>\n",
       "      <th>nameOrig</th>\n",
       "      <th>oldbalanceOrg</th>\n",
       "      <th>newbalanceOrig</th>\n",
       "      <th>nameDest</th>\n",
       "      <th>oldbalanceDest</th>\n",
       "      <th>newbalanceDest</th>\n",
       "      <th>isFraud</th>\n",
       "      <th>isFlaggedFraud</th>\n",
       "    </tr>\n",
       "  </thead>\n",
       "  <tbody>\n",
       "    <tr>\n",
       "      <th>0</th>\n",
       "      <td>1.0</td>\n",
       "      <td>PAYMENT</td>\n",
       "      <td>9839.64</td>\n",
       "      <td>C1231006815</td>\n",
       "      <td>170136.0</td>\n",
       "      <td>160296.36</td>\n",
       "      <td>M1979787155</td>\n",
       "      <td>0.0</td>\n",
       "      <td>0.0</td>\n",
       "      <td>0.0</td>\n",
       "      <td>0.0</td>\n",
       "    </tr>\n",
       "    <tr>\n",
       "      <th>1</th>\n",
       "      <td>1.0</td>\n",
       "      <td>PAYMENT</td>\n",
       "      <td>1864.28</td>\n",
       "      <td>C1666544295</td>\n",
       "      <td>21249.0</td>\n",
       "      <td>19384.72</td>\n",
       "      <td>M2044282225</td>\n",
       "      <td>0.0</td>\n",
       "      <td>0.0</td>\n",
       "      <td>0.0</td>\n",
       "      <td>0.0</td>\n",
       "    </tr>\n",
       "    <tr>\n",
       "      <th>2</th>\n",
       "      <td>1.0</td>\n",
       "      <td>TRANSFER</td>\n",
       "      <td>181.00</td>\n",
       "      <td>C1305486145</td>\n",
       "      <td>181.0</td>\n",
       "      <td>0.00</td>\n",
       "      <td>C553264065</td>\n",
       "      <td>0.0</td>\n",
       "      <td>0.0</td>\n",
       "      <td>1.0</td>\n",
       "      <td>0.0</td>\n",
       "    </tr>\n",
       "    <tr>\n",
       "      <th>3</th>\n",
       "      <td>1.0</td>\n",
       "      <td>CASH_OUT</td>\n",
       "      <td>181.00</td>\n",
       "      <td>C840083671</td>\n",
       "      <td>181.0</td>\n",
       "      <td>0.00</td>\n",
       "      <td>C38997010</td>\n",
       "      <td>21182.0</td>\n",
       "      <td>0.0</td>\n",
       "      <td>1.0</td>\n",
       "      <td>0.0</td>\n",
       "    </tr>\n",
       "    <tr>\n",
       "      <th>4</th>\n",
       "      <td>1.0</td>\n",
       "      <td>PAYMENT</td>\n",
       "      <td>11668.14</td>\n",
       "      <td>C2048537720</td>\n",
       "      <td>41554.0</td>\n",
       "      <td>29885.86</td>\n",
       "      <td>M1230701703</td>\n",
       "      <td>0.0</td>\n",
       "      <td>0.0</td>\n",
       "      <td>0.0</td>\n",
       "      <td>0.0</td>\n",
       "    </tr>\n",
       "    <tr>\n",
       "      <th>...</th>\n",
       "      <td>...</td>\n",
       "      <td>...</td>\n",
       "      <td>...</td>\n",
       "      <td>...</td>\n",
       "      <td>...</td>\n",
       "      <td>...</td>\n",
       "      <td>...</td>\n",
       "      <td>...</td>\n",
       "      <td>...</td>\n",
       "      <td>...</td>\n",
       "      <td>...</td>\n",
       "    </tr>\n",
       "    <tr>\n",
       "      <th>1048557</th>\n",
       "      <td>NaN</td>\n",
       "      <td>NaN</td>\n",
       "      <td>NaN</td>\n",
       "      <td>NaN</td>\n",
       "      <td>NaN</td>\n",
       "      <td>NaN</td>\n",
       "      <td>NaN</td>\n",
       "      <td>NaN</td>\n",
       "      <td>NaN</td>\n",
       "      <td>NaN</td>\n",
       "      <td>NaN</td>\n",
       "    </tr>\n",
       "    <tr>\n",
       "      <th>1048558</th>\n",
       "      <td>NaN</td>\n",
       "      <td>NaN</td>\n",
       "      <td>NaN</td>\n",
       "      <td>NaN</td>\n",
       "      <td>NaN</td>\n",
       "      <td>NaN</td>\n",
       "      <td>NaN</td>\n",
       "      <td>NaN</td>\n",
       "      <td>NaN</td>\n",
       "      <td>NaN</td>\n",
       "      <td>NaN</td>\n",
       "    </tr>\n",
       "    <tr>\n",
       "      <th>1048559</th>\n",
       "      <td>NaN</td>\n",
       "      <td>NaN</td>\n",
       "      <td>NaN</td>\n",
       "      <td>NaN</td>\n",
       "      <td>NaN</td>\n",
       "      <td>NaN</td>\n",
       "      <td>NaN</td>\n",
       "      <td>NaN</td>\n",
       "      <td>NaN</td>\n",
       "      <td>NaN</td>\n",
       "      <td>NaN</td>\n",
       "    </tr>\n",
       "    <tr>\n",
       "      <th>1048560</th>\n",
       "      <td>NaN</td>\n",
       "      <td>NaN</td>\n",
       "      <td>NaN</td>\n",
       "      <td>NaN</td>\n",
       "      <td>NaN</td>\n",
       "      <td>NaN</td>\n",
       "      <td>NaN</td>\n",
       "      <td>NaN</td>\n",
       "      <td>NaN</td>\n",
       "      <td>NaN</td>\n",
       "      <td>NaN</td>\n",
       "    </tr>\n",
       "    <tr>\n",
       "      <th>1048561</th>\n",
       "      <td>NaN</td>\n",
       "      <td>NaN</td>\n",
       "      <td>NaN</td>\n",
       "      <td>NaN</td>\n",
       "      <td>NaN</td>\n",
       "      <td>NaN</td>\n",
       "      <td>NaN</td>\n",
       "      <td>NaN</td>\n",
       "      <td>NaN</td>\n",
       "      <td>NaN</td>\n",
       "      <td>NaN</td>\n",
       "    </tr>\n",
       "  </tbody>\n",
       "</table>\n",
       "<p>1048562 rows × 11 columns</p>\n",
       "</div>"
      ],
      "text/plain": [
       "         step      type    amount     nameOrig  oldbalanceOrg  newbalanceOrig  \\\n",
       "0         1.0   PAYMENT   9839.64  C1231006815       170136.0       160296.36   \n",
       "1         1.0   PAYMENT   1864.28  C1666544295        21249.0        19384.72   \n",
       "2         1.0  TRANSFER    181.00  C1305486145          181.0            0.00   \n",
       "3         1.0  CASH_OUT    181.00   C840083671          181.0            0.00   \n",
       "4         1.0   PAYMENT  11668.14  C2048537720        41554.0        29885.86   \n",
       "...       ...       ...       ...          ...            ...             ...   \n",
       "1048557   NaN       NaN       NaN          NaN            NaN             NaN   \n",
       "1048558   NaN       NaN       NaN          NaN            NaN             NaN   \n",
       "1048559   NaN       NaN       NaN          NaN            NaN             NaN   \n",
       "1048560   NaN       NaN       NaN          NaN            NaN             NaN   \n",
       "1048561   NaN       NaN       NaN          NaN            NaN             NaN   \n",
       "\n",
       "            nameDest  oldbalanceDest  newbalanceDest  isFraud  isFlaggedFraud  \n",
       "0        M1979787155             0.0             0.0      0.0             0.0  \n",
       "1        M2044282225             0.0             0.0      0.0             0.0  \n",
       "2         C553264065             0.0             0.0      1.0             0.0  \n",
       "3          C38997010         21182.0             0.0      1.0             0.0  \n",
       "4        M1230701703             0.0             0.0      0.0             0.0  \n",
       "...              ...             ...             ...      ...             ...  \n",
       "1048557          NaN             NaN             NaN      NaN             NaN  \n",
       "1048558          NaN             NaN             NaN      NaN             NaN  \n",
       "1048559          NaN             NaN             NaN      NaN             NaN  \n",
       "1048560          NaN             NaN             NaN      NaN             NaN  \n",
       "1048561          NaN             NaN             NaN      NaN             NaN  \n",
       "\n",
       "[1048562 rows x 11 columns]"
      ]
     },
     "execution_count": 3,
     "metadata": {},
     "output_type": "execute_result"
    }
   ],
   "source": [
    "fraud_df"
   ]
  },
  {
   "cell_type": "code",
   "execution_count": 4,
   "id": "5ee7c62f",
   "metadata": {},
   "outputs": [
    {
     "data": {
      "text/plain": [
       "(1048562, 11)"
      ]
     },
     "execution_count": 4,
     "metadata": {},
     "output_type": "execute_result"
    }
   ],
   "source": [
    "fraud_df.shape"
   ]
  },
  {
   "cell_type": "code",
   "execution_count": 5,
   "id": "4b1b1fe2",
   "metadata": {},
   "outputs": [],
   "source": [
    "f_df=fraud_df.head(1022560)"
   ]
  },
  {
   "cell_type": "code",
   "execution_count": 6,
   "id": "90b9b81a",
   "metadata": {},
   "outputs": [
    {
     "data": {
      "text/html": [
       "<div>\n",
       "<style scoped>\n",
       "    .dataframe tbody tr th:only-of-type {\n",
       "        vertical-align: middle;\n",
       "    }\n",
       "\n",
       "    .dataframe tbody tr th {\n",
       "        vertical-align: top;\n",
       "    }\n",
       "\n",
       "    .dataframe thead th {\n",
       "        text-align: right;\n",
       "    }\n",
       "</style>\n",
       "<table border=\"1\" class=\"dataframe\">\n",
       "  <thead>\n",
       "    <tr style=\"text-align: right;\">\n",
       "      <th></th>\n",
       "      <th>step</th>\n",
       "      <th>type</th>\n",
       "      <th>amount</th>\n",
       "      <th>nameOrig</th>\n",
       "      <th>oldbalanceOrg</th>\n",
       "      <th>newbalanceOrig</th>\n",
       "      <th>nameDest</th>\n",
       "      <th>oldbalanceDest</th>\n",
       "      <th>newbalanceDest</th>\n",
       "      <th>isFraud</th>\n",
       "      <th>isFlaggedFraud</th>\n",
       "    </tr>\n",
       "  </thead>\n",
       "  <tbody>\n",
       "    <tr>\n",
       "      <th>0</th>\n",
       "      <td>1.0</td>\n",
       "      <td>PAYMENT</td>\n",
       "      <td>9839.64</td>\n",
       "      <td>C1231006815</td>\n",
       "      <td>170136.00</td>\n",
       "      <td>160296.36</td>\n",
       "      <td>M1979787155</td>\n",
       "      <td>0.00</td>\n",
       "      <td>0.00</td>\n",
       "      <td>0.0</td>\n",
       "      <td>0.0</td>\n",
       "    </tr>\n",
       "    <tr>\n",
       "      <th>1</th>\n",
       "      <td>1.0</td>\n",
       "      <td>PAYMENT</td>\n",
       "      <td>1864.28</td>\n",
       "      <td>C1666544295</td>\n",
       "      <td>21249.00</td>\n",
       "      <td>19384.72</td>\n",
       "      <td>M2044282225</td>\n",
       "      <td>0.00</td>\n",
       "      <td>0.00</td>\n",
       "      <td>0.0</td>\n",
       "      <td>0.0</td>\n",
       "    </tr>\n",
       "    <tr>\n",
       "      <th>2</th>\n",
       "      <td>1.0</td>\n",
       "      <td>TRANSFER</td>\n",
       "      <td>181.00</td>\n",
       "      <td>C1305486145</td>\n",
       "      <td>181.00</td>\n",
       "      <td>0.00</td>\n",
       "      <td>C553264065</td>\n",
       "      <td>0.00</td>\n",
       "      <td>0.00</td>\n",
       "      <td>1.0</td>\n",
       "      <td>0.0</td>\n",
       "    </tr>\n",
       "    <tr>\n",
       "      <th>3</th>\n",
       "      <td>1.0</td>\n",
       "      <td>CASH_OUT</td>\n",
       "      <td>181.00</td>\n",
       "      <td>C840083671</td>\n",
       "      <td>181.00</td>\n",
       "      <td>0.00</td>\n",
       "      <td>C38997010</td>\n",
       "      <td>21182.00</td>\n",
       "      <td>0.00</td>\n",
       "      <td>1.0</td>\n",
       "      <td>0.0</td>\n",
       "    </tr>\n",
       "    <tr>\n",
       "      <th>4</th>\n",
       "      <td>1.0</td>\n",
       "      <td>PAYMENT</td>\n",
       "      <td>11668.14</td>\n",
       "      <td>C2048537720</td>\n",
       "      <td>41554.00</td>\n",
       "      <td>29885.86</td>\n",
       "      <td>M1230701703</td>\n",
       "      <td>0.00</td>\n",
       "      <td>0.00</td>\n",
       "      <td>0.0</td>\n",
       "      <td>0.0</td>\n",
       "    </tr>\n",
       "    <tr>\n",
       "      <th>...</th>\n",
       "      <td>...</td>\n",
       "      <td>...</td>\n",
       "      <td>...</td>\n",
       "      <td>...</td>\n",
       "      <td>...</td>\n",
       "      <td>...</td>\n",
       "      <td>...</td>\n",
       "      <td>...</td>\n",
       "      <td>...</td>\n",
       "      <td>...</td>\n",
       "      <td>...</td>\n",
       "    </tr>\n",
       "    <tr>\n",
       "      <th>1022555</th>\n",
       "      <td>47.0</td>\n",
       "      <td>CASH_OUT</td>\n",
       "      <td>95001.40</td>\n",
       "      <td>C1754043162</td>\n",
       "      <td>182.00</td>\n",
       "      <td>0.00</td>\n",
       "      <td>C1688927068</td>\n",
       "      <td>1136028.63</td>\n",
       "      <td>1231030.03</td>\n",
       "      <td>0.0</td>\n",
       "      <td>0.0</td>\n",
       "    </tr>\n",
       "    <tr>\n",
       "      <th>1022556</th>\n",
       "      <td>47.0</td>\n",
       "      <td>PAYMENT</td>\n",
       "      <td>9625.61</td>\n",
       "      <td>C1665870412</td>\n",
       "      <td>15600.00</td>\n",
       "      <td>5974.39</td>\n",
       "      <td>M1417065075</td>\n",
       "      <td>0.00</td>\n",
       "      <td>0.00</td>\n",
       "      <td>0.0</td>\n",
       "      <td>0.0</td>\n",
       "    </tr>\n",
       "    <tr>\n",
       "      <th>1022557</th>\n",
       "      <td>47.0</td>\n",
       "      <td>PAYMENT</td>\n",
       "      <td>8581.00</td>\n",
       "      <td>C480579916</td>\n",
       "      <td>5050.00</td>\n",
       "      <td>0.00</td>\n",
       "      <td>M280843649</td>\n",
       "      <td>0.00</td>\n",
       "      <td>0.00</td>\n",
       "      <td>0.0</td>\n",
       "      <td>0.0</td>\n",
       "    </tr>\n",
       "    <tr>\n",
       "      <th>1022558</th>\n",
       "      <td>47.0</td>\n",
       "      <td>PAYMENT</td>\n",
       "      <td>8652.07</td>\n",
       "      <td>C706614416</td>\n",
       "      <td>41236.00</td>\n",
       "      <td>32583.93</td>\n",
       "      <td>M1268440714</td>\n",
       "      <td>0.00</td>\n",
       "      <td>0.00</td>\n",
       "      <td>0.0</td>\n",
       "      <td>0.0</td>\n",
       "    </tr>\n",
       "    <tr>\n",
       "      <th>1022559</th>\n",
       "      <td>47.0</td>\n",
       "      <td>CASH_OUT</td>\n",
       "      <td>74501.04</td>\n",
       "      <td>C2130807236</td>\n",
       "      <td>32583.93</td>\n",
       "      <td>0.00</td>\n",
       "      <td>C53831198</td>\n",
       "      <td>518965.64</td>\n",
       "      <td>593466.68</td>\n",
       "      <td>0.0</td>\n",
       "      <td>0.0</td>\n",
       "    </tr>\n",
       "  </tbody>\n",
       "</table>\n",
       "<p>1022560 rows × 11 columns</p>\n",
       "</div>"
      ],
      "text/plain": [
       "         step      type    amount     nameOrig  oldbalanceOrg  newbalanceOrig  \\\n",
       "0         1.0   PAYMENT   9839.64  C1231006815      170136.00       160296.36   \n",
       "1         1.0   PAYMENT   1864.28  C1666544295       21249.00        19384.72   \n",
       "2         1.0  TRANSFER    181.00  C1305486145         181.00            0.00   \n",
       "3         1.0  CASH_OUT    181.00   C840083671         181.00            0.00   \n",
       "4         1.0   PAYMENT  11668.14  C2048537720       41554.00        29885.86   \n",
       "...       ...       ...       ...          ...            ...             ...   \n",
       "1022555  47.0  CASH_OUT  95001.40  C1754043162         182.00            0.00   \n",
       "1022556  47.0   PAYMENT   9625.61  C1665870412       15600.00         5974.39   \n",
       "1022557  47.0   PAYMENT   8581.00   C480579916        5050.00            0.00   \n",
       "1022558  47.0   PAYMENT   8652.07   C706614416       41236.00        32583.93   \n",
       "1022559  47.0  CASH_OUT  74501.04  C2130807236       32583.93            0.00   \n",
       "\n",
       "            nameDest  oldbalanceDest  newbalanceDest  isFraud  isFlaggedFraud  \n",
       "0        M1979787155            0.00            0.00      0.0             0.0  \n",
       "1        M2044282225            0.00            0.00      0.0             0.0  \n",
       "2         C553264065            0.00            0.00      1.0             0.0  \n",
       "3          C38997010        21182.00            0.00      1.0             0.0  \n",
       "4        M1230701703            0.00            0.00      0.0             0.0  \n",
       "...              ...             ...             ...      ...             ...  \n",
       "1022555  C1688927068      1136028.63      1231030.03      0.0             0.0  \n",
       "1022556  M1417065075            0.00            0.00      0.0             0.0  \n",
       "1022557   M280843649            0.00            0.00      0.0             0.0  \n",
       "1022558  M1268440714            0.00            0.00      0.0             0.0  \n",
       "1022559    C53831198       518965.64       593466.68      0.0             0.0  \n",
       "\n",
       "[1022560 rows x 11 columns]"
      ]
     },
     "execution_count": 6,
     "metadata": {},
     "output_type": "execute_result"
    }
   ],
   "source": [
    "f_df"
   ]
  },
  {
   "cell_type": "code",
   "execution_count": 7,
   "id": "9bc0c254",
   "metadata": {},
   "outputs": [
    {
     "name": "stdout",
     "output_type": "stream",
     "text": [
      "<class 'pandas.core.frame.DataFrame'>\n",
      "RangeIndex: 1022560 entries, 0 to 1022559\n",
      "Data columns (total 11 columns):\n",
      " #   Column          Non-Null Count    Dtype  \n",
      "---  ------          --------------    -----  \n",
      " 0   step            1022560 non-null  float64\n",
      " 1   type            1022560 non-null  object \n",
      " 2   amount          1022560 non-null  float64\n",
      " 3   nameOrig        1022560 non-null  object \n",
      " 4   oldbalanceOrg   1022560 non-null  float64\n",
      " 5   newbalanceOrig  1022560 non-null  float64\n",
      " 6   nameDest        1022560 non-null  object \n",
      " 7   oldbalanceDest  1022560 non-null  float64\n",
      " 8   newbalanceDest  1022560 non-null  float64\n",
      " 9   isFraud         1022560 non-null  float64\n",
      " 10  isFlaggedFraud  1022560 non-null  float64\n",
      "dtypes: float64(8), object(3)\n",
      "memory usage: 85.8+ MB\n"
     ]
    }
   ],
   "source": [
    "f_df.info()"
   ]
  },
  {
   "cell_type": "markdown",
   "id": "118cfcba",
   "metadata": {},
   "source": [
    "<b>Note,  step:-</b> represents a unit of time where 1 step equals 1 hour"
   ]
  },
  {
   "cell_type": "code",
   "execution_count": 8,
   "id": "8d62f97a",
   "metadata": {},
   "outputs": [
    {
     "data": {
      "text/html": [
       "<div>\n",
       "<style scoped>\n",
       "    .dataframe tbody tr th:only-of-type {\n",
       "        vertical-align: middle;\n",
       "    }\n",
       "\n",
       "    .dataframe tbody tr th {\n",
       "        vertical-align: top;\n",
       "    }\n",
       "\n",
       "    .dataframe thead th {\n",
       "        text-align: right;\n",
       "    }\n",
       "</style>\n",
       "<table border=\"1\" class=\"dataframe\">\n",
       "  <thead>\n",
       "    <tr style=\"text-align: right;\">\n",
       "      <th></th>\n",
       "      <th>step</th>\n",
       "      <th>amount</th>\n",
       "      <th>oldbalanceOrg</th>\n",
       "      <th>newbalanceOrig</th>\n",
       "      <th>oldbalanceDest</th>\n",
       "      <th>newbalanceDest</th>\n",
       "      <th>isFraud</th>\n",
       "      <th>isFlaggedFraud</th>\n",
       "    </tr>\n",
       "  </thead>\n",
       "  <tbody>\n",
       "    <tr>\n",
       "      <th>count</th>\n",
       "      <td>1.022560e+06</td>\n",
       "      <td>1.022560e+06</td>\n",
       "      <td>1.022560e+06</td>\n",
       "      <td>1.022560e+06</td>\n",
       "      <td>1.022560e+06</td>\n",
       "      <td>1.022560e+06</td>\n",
       "      <td>1.022560e+06</td>\n",
       "      <td>1022560.0</td>\n",
       "    </tr>\n",
       "    <tr>\n",
       "      <th>mean</th>\n",
       "      <td>2.562091e+01</td>\n",
       "      <td>1.591012e+05</td>\n",
       "      <td>8.771157e+05</td>\n",
       "      <td>8.977220e+05</td>\n",
       "      <td>9.827761e+05</td>\n",
       "      <td>1.120427e+06</td>\n",
       "      <td>5.554686e-04</td>\n",
       "      <td>0.0</td>\n",
       "    </tr>\n",
       "    <tr>\n",
       "      <th>std</th>\n",
       "      <td>1.288866e+01</td>\n",
       "      <td>2.588677e+05</td>\n",
       "      <td>2.980587e+06</td>\n",
       "      <td>3.017526e+06</td>\n",
       "      <td>2.302313e+06</td>\n",
       "      <td>2.422455e+06</td>\n",
       "      <td>2.356185e-02</td>\n",
       "      <td>0.0</td>\n",
       "    </tr>\n",
       "    <tr>\n",
       "      <th>min</th>\n",
       "      <td>1.000000e+00</td>\n",
       "      <td>1.000000e-01</td>\n",
       "      <td>0.000000e+00</td>\n",
       "      <td>0.000000e+00</td>\n",
       "      <td>0.000000e+00</td>\n",
       "      <td>0.000000e+00</td>\n",
       "      <td>0.000000e+00</td>\n",
       "      <td>0.0</td>\n",
       "    </tr>\n",
       "    <tr>\n",
       "      <th>25%</th>\n",
       "      <td>1.400000e+01</td>\n",
       "      <td>1.246051e+04</td>\n",
       "      <td>0.000000e+00</td>\n",
       "      <td>0.000000e+00</td>\n",
       "      <td>0.000000e+00</td>\n",
       "      <td>0.000000e+00</td>\n",
       "      <td>0.000000e+00</td>\n",
       "      <td>0.0</td>\n",
       "    </tr>\n",
       "    <tr>\n",
       "      <th>50%</th>\n",
       "      <td>2.000000e+01</td>\n",
       "      <td>7.800658e+04</td>\n",
       "      <td>1.598900e+04</td>\n",
       "      <td>0.000000e+00</td>\n",
       "      <td>1.315056e+05</td>\n",
       "      <td>2.252310e+05</td>\n",
       "      <td>0.000000e+00</td>\n",
       "      <td>0.0</td>\n",
       "    </tr>\n",
       "    <tr>\n",
       "      <th>75%</th>\n",
       "      <td>3.900000e+01</td>\n",
       "      <td>2.151366e+05</td>\n",
       "      <td>1.382405e+05</td>\n",
       "      <td>1.776768e+05</td>\n",
       "      <td>9.224336e+05</td>\n",
       "      <td>1.159654e+06</td>\n",
       "      <td>0.000000e+00</td>\n",
       "      <td>0.0</td>\n",
       "    </tr>\n",
       "    <tr>\n",
       "      <th>max</th>\n",
       "      <td>4.700000e+01</td>\n",
       "      <td>1.000000e+07</td>\n",
       "      <td>3.890000e+07</td>\n",
       "      <td>3.890000e+07</td>\n",
       "      <td>4.210000e+07</td>\n",
       "      <td>4.220000e+07</td>\n",
       "      <td>1.000000e+00</td>\n",
       "      <td>0.0</td>\n",
       "    </tr>\n",
       "  </tbody>\n",
       "</table>\n",
       "</div>"
      ],
      "text/plain": [
       "               step        amount  oldbalanceOrg  newbalanceOrig  \\\n",
       "count  1.022560e+06  1.022560e+06   1.022560e+06    1.022560e+06   \n",
       "mean   2.562091e+01  1.591012e+05   8.771157e+05    8.977220e+05   \n",
       "std    1.288866e+01  2.588677e+05   2.980587e+06    3.017526e+06   \n",
       "min    1.000000e+00  1.000000e-01   0.000000e+00    0.000000e+00   \n",
       "25%    1.400000e+01  1.246051e+04   0.000000e+00    0.000000e+00   \n",
       "50%    2.000000e+01  7.800658e+04   1.598900e+04    0.000000e+00   \n",
       "75%    3.900000e+01  2.151366e+05   1.382405e+05    1.776768e+05   \n",
       "max    4.700000e+01  1.000000e+07   3.890000e+07    3.890000e+07   \n",
       "\n",
       "       oldbalanceDest  newbalanceDest       isFraud  isFlaggedFraud  \n",
       "count    1.022560e+06    1.022560e+06  1.022560e+06       1022560.0  \n",
       "mean     9.827761e+05    1.120427e+06  5.554686e-04             0.0  \n",
       "std      2.302313e+06    2.422455e+06  2.356185e-02             0.0  \n",
       "min      0.000000e+00    0.000000e+00  0.000000e+00             0.0  \n",
       "25%      0.000000e+00    0.000000e+00  0.000000e+00             0.0  \n",
       "50%      1.315056e+05    2.252310e+05  0.000000e+00             0.0  \n",
       "75%      9.224336e+05    1.159654e+06  0.000000e+00             0.0  \n",
       "max      4.210000e+07    4.220000e+07  1.000000e+00             0.0  "
      ]
     },
     "execution_count": 8,
     "metadata": {},
     "output_type": "execute_result"
    }
   ],
   "source": [
    "f_df.describe()"
   ]
  },
  {
   "cell_type": "markdown",
   "id": "b790ca81",
   "metadata": {},
   "source": [
    "<b> Checking for any null values</b>"
   ]
  },
  {
   "cell_type": "code",
   "execution_count": 9,
   "id": "2aa63222",
   "metadata": {},
   "outputs": [
    {
     "data": {
      "text/plain": [
       "step              0\n",
       "type              0\n",
       "amount            0\n",
       "nameOrig          0\n",
       "oldbalanceOrg     0\n",
       "newbalanceOrig    0\n",
       "nameDest          0\n",
       "oldbalanceDest    0\n",
       "newbalanceDest    0\n",
       "isFraud           0\n",
       "isFlaggedFraud    0\n",
       "dtype: int64"
      ]
     },
     "execution_count": 9,
     "metadata": {},
     "output_type": "execute_result"
    }
   ],
   "source": [
    "f_df.isnull().sum()"
   ]
  },
  {
   "cell_type": "markdown",
   "id": "7bdab74f",
   "metadata": {},
   "source": [
    "The dataset has no null values\n"
   ]
  },
  {
   "cell_type": "code",
   "execution_count": 10,
   "id": "b20f9c70",
   "metadata": {},
   "outputs": [
    {
     "name": "stdout",
     "output_type": "stream",
     "text": [
      "count    1.022560e+06\n",
      "mean     2.562091e+01\n",
      "std      1.288866e+01\n",
      "min      1.000000e+00\n",
      "25%      1.400000e+01\n",
      "50%      2.000000e+01\n",
      "75%      3.900000e+01\n",
      "max      4.700000e+01\n",
      "Name: step, dtype: float64\n"
     ]
    }
   ],
   "source": [
    "step_info=f_df['step'].describe()\n",
    "print(step_info)"
   ]
  },
  {
   "cell_type": "markdown",
   "id": "460583dd",
   "metadata": {},
   "source": [
    "# Performing EDA"
   ]
  },
  {
   "cell_type": "code",
   "execution_count": 11,
   "id": "349ac74b",
   "metadata": {
    "scrolled": false
   },
   "outputs": [
    {
     "data": {
      "image/png": "[encoded data removed]",
      "text/plain": [
       "<Figure size 640x480 with 1 Axes>"
      ]
     },
     "metadata": {},
     "output_type": "display_data"
    },
    {
     "data": {
      "image/png": "[encoded data removed]",
      "text/plain": [
       "<Figure size 640x480 with 1 Axes>"
      ]
     },
     "metadata": {},
     "output_type": "display_data"
    },
    {
     "data": {
      "image/png": "[encoded data removed]",
      "text/plain": [
       "<Figure size 640x480 with 1 Axes>"
      ]
     },
     "metadata": {},
     "output_type": "display_data"
    },
    {
     "data": {
      "image/png": "[encoded data removed]",
      "text/plain": [
       "<Figure size 640x480 with 1 Axes>"
      ]
     },
     "metadata": {},
     "output_type": "display_data"
    },
    {
     "data": {
      "image/png": "[encoded data removed]",
      "text/plain": [
       "<Figure size 640x480 with 1 Axes>"
      ]
     },
     "metadata": {},
     "output_type": "display_data"
    },
    {
     "data": {
      "image/png": "[encoded data removed]",
      "text/plain": [
       "<Figure size 640x480 with 1 Axes>"
      ]
     },
     "metadata": {},
     "output_type": "display_data"
    }
   ],
   "source": [
    "##Looking at features with data type float64 or int64 first\n",
    "feature=['step','amount','oldbalanceOrg','newbalanceOrig','oldbalanceDest','newbalanceDest']\n",
    "\n",
    "for i in feature:\n",
    "    f_df[i].plot(kind='hist', bins=5, edgecolor='black')\n",
    "    plt.xlabel(i)\n",
    "    plt.show()"
   ]
  },
  {
   "cell_type": "markdown",
   "id": "554b668b",
   "metadata": {},
   "source": [
    "<b> We observe that other than feature 'step', other features have outliers</b>"
   ]
  },
  {
   "cell_type": "markdown",
   "id": "3a7a5b92",
   "metadata": {},
   "source": [
    "Outliers are data points that deviate significantly from the majority of the data. They can arise due to various reasons such as measurement errors, data entry mistakes, or rare events."
   ]
  },
  {
   "cell_type": "markdown",
   "id": "b327d040",
   "metadata": {},
   "source": [
    "Outliers can have a detrimental effect on predictive models. They can influence the model's coefficients and lead to suboptimal performance."
   ]
  },
  {
   "cell_type": "markdown",
   "id": "4c8566d9",
   "metadata": {},
   "source": [
    "Outliers can distort visualizations and make it challenging to interpret and compare different aspects of the data. By removing outliers, the visualization becomes more informative and easier to interpret, providing a clearer representation of the patterns and trends present in the data"
   ]
  },
  {
   "cell_type": "markdown",
   "id": "a33f1903",
   "metadata": {},
   "source": [
    "<b>However, before removing outliers, it is important to assess the potential impact on the analysis. Hence we will perform a sensitivity analysis to evaluate the robustness of our analysis or models by comparing results with and without outliers</b>"
   ]
  },
  {
   "cell_type": "code",
   "execution_count": 12,
   "id": "f7348f9d",
   "metadata": {},
   "outputs": [
    {
     "name": "stdout",
     "output_type": "stream",
     "text": [
      "amount\n",
      "4314.135000000001\n",
      "374259.1389999999\n",
      "\n",
      "\n",
      "oldbalanceOrg\n",
      "0.0\n",
      "1926395.2309999964\n",
      "\n",
      "\n",
      "newbalanceOrig\n",
      "0.0\n",
      "2066230.1019999997\n",
      "\n",
      "\n",
      "oldbalanceDest\n",
      "0.0\n",
      "2731418.7249999996\n",
      "\n",
      "\n",
      "newbalanceDest\n",
      "0.0\n",
      "3116092.67\n",
      "\n",
      "\n"
     ]
    }
   ],
   "source": [
    "feature=['amount','oldbalanceOrg','newbalanceOrig','oldbalanceDest','newbalanceDest']\n",
    "\n",
    "for i in feature:\n",
    "    print(i)\n",
    "    print(f_df[i].quantile(0.10))\n",
    "    print(f_df[i].quantile(0.90))\n",
    "\n",
    "    print('\\n')"
   ]
  },
  {
   "cell_type": "markdown",
   "id": "85f389d9",
   "metadata": {},
   "source": [
    "Note:- <b>When you calculate the 10th percentile of a feature in a DataFrame using df[i].quantile(0.10), you are finding the value below which 10% of the data in that specific feature falls. </b>"
   ]
  },
  {
   "cell_type": "markdown",
   "id": "d09f70a1",
   "metadata": {},
   "source": [
    "In easy words:- the 10th percentile represents the value below which 10% of the data falls"
   ]
  },
  {
   "cell_type": "markdown",
   "id": "b56f9e07",
   "metadata": {},
   "source": [
    "# Winsorization"
   ]
  },
  {
   "cell_type": "code",
   "execution_count": 13,
   "id": "8e3fbde2",
   "metadata": {},
   "outputs": [],
   "source": [
    "new_df=f_df.copy()  ##Creating a copy of original df. We will be using this new df for outlier treatment"
   ]
  },
  {
   "cell_type": "code",
   "execution_count": 14,
   "id": "bcd6b923",
   "metadata": {},
   "outputs": [],
   "source": [
    "from scipy.stats.mstats import winsorize\n",
    "feature=['amount','oldbalanceOrg','newbalanceOrig','oldbalanceDest','newbalanceDest']\n",
    "\n",
    "for i in feature:\n",
    "    winsorized_coll = winsorize(new_df[i], limits=[0.10, 0.10])\n",
    "    new_df[i]=winsorized_coll\n",
    "    "
   ]
  },
  {
   "cell_type": "code",
   "execution_count": 15,
   "id": "b42c6ae7",
   "metadata": {
    "scrolled": false
   },
   "outputs": [
    {
     "data": {
      "image/png": "[encoded data removed]",
      "text/plain": [
       "<Figure size 640x480 with 1 Axes>"
      ]
     },
     "metadata": {},
     "output_type": "display_data"
    },
    {
     "data": {
      "image/png": "[encoded data removed]",
      "text/plain": [
       "<Figure size 640x480 with 1 Axes>"
      ]
     },
     "metadata": {},
     "output_type": "display_data"
    },
    {
     "data": {
      "image/png": "[encoded data removed]",
      "text/plain": [
       "<Figure size 640x480 with 1 Axes>"
      ]
     },
     "metadata": {},
     "output_type": "display_data"
    },
    {
     "data": {
      "image/png": "[encoded data removed]",
      "text/plain": [
       "<Figure size 640x480 with 1 Axes>"
      ]
     },
     "metadata": {},
     "output_type": "display_data"
    },
    {
     "data": {
      "image/png": "[encoded data removed]",
      "text/plain": [
       "<Figure size 640x480 with 1 Axes>"
      ]
     },
     "metadata": {},
     "output_type": "display_data"
    },
    {
     "data": {
      "image/png": "[encoded data removed]",
      "text/plain": [
       "<Figure size 640x480 with 1 Axes>"
      ]
     },
     "metadata": {},
     "output_type": "display_data"
    }
   ],
   "source": [
    "feature=['step','amount','oldbalanceOrg','newbalanceOrig','oldbalanceDest','newbalanceDest']\n",
    "\n",
    "for i in feature:\n",
    "    new_df[i].plot(kind='hist', bins=6, edgecolor='black')\n",
    "    plt.xlabel(i)\n",
    "    plt.show()"
   ]
  },
  {
   "cell_type": "markdown",
   "id": "ceca363b",
   "metadata": {},
   "source": [
    "Insights:-\n",
    "Amount ranges between 0-37 lakhs with more values ranging between 0-75,000\n"
   ]
  },
  {
   "cell_type": "markdown",
   "id": "455dd6d1",
   "metadata": {},
   "source": [
    "1.OldbalanceOrg ranges around 0-18 lakh with more frequency around 0-3,75,000\n",
    "2.NewbalanceOrig ranges around 0-19 lakh with more frequency around 0-3,75,000\n",
    "3.OldbalanceDest ranges around 0-29 lakh with common values around 0-6,25,000\n",
    "4.NewbalanceDest ranges around 0-35 lakh with common values around 0-5,00,000"
   ]
  },
  {
   "cell_type": "markdown",
   "id": "cfee0807",
   "metadata": {},
   "source": [
    "# Finding Cross-Relations"
   ]
  },
  {
   "cell_type": "markdown",
   "id": "d43b77dd",
   "metadata": {},
   "source": [
    "<b> Now we will try finding relations between column isFraud and other columns</b>"
   ]
  },
  {
   "cell_type": "markdown",
   "id": "08540470",
   "metadata": {},
   "source": [
    "<b>let us begin with Type </b>"
   ]
  },
  {
   "cell_type": "code",
   "execution_count": 16,
   "id": "ce5149f8",
   "metadata": {},
   "outputs": [
    {
     "data": {
      "text/plain": [
       "array(['PAYMENT', 'TRANSFER', 'CASH_OUT', 'DEBIT', 'CASH_IN'],\n",
       "      dtype=object)"
      ]
     },
     "execution_count": 16,
     "metadata": {},
     "output_type": "execute_result"
    }
   ],
   "source": [
    "f_df.type.unique()"
   ]
  },
  {
   "cell_type": "markdown",
   "id": "18f4e062",
   "metadata": {},
   "source": [
    "There are 5 different types of transaction mode"
   ]
  },
  {
   "cell_type": "code",
   "execution_count": 17,
   "id": "bcf8fa37",
   "metadata": {},
   "outputs": [
    {
     "data": {
      "text/plain": [
       "<Axes: xlabel='type', ylabel='count'>"
      ]
     },
     "execution_count": 17,
     "metadata": {},
     "output_type": "execute_result"
    },
    {
     "data": {
      "image/png": "[encoded data removed]",
      "text/plain": [
       "<Figure size 640x480 with 1 Axes>"
      ]
     },
     "metadata": {},
     "output_type": "display_data"
    }
   ],
   "source": [
    "import seaborn as sns\n",
    "sns.countplot(x='type', data=f_df)"
   ]
  },
  {
   "cell_type": "markdown",
   "id": "55002249",
   "metadata": {},
   "source": [
    "We observe that maximum transaction type is cash out"
   ]
  },
  {
   "cell_type": "markdown",
   "id": "5442be91",
   "metadata": {},
   "source": [
    "Let us see through which type has maximum fraud cases"
   ]
  },
  {
   "cell_type": "code",
   "execution_count": 18,
   "id": "b941daca",
   "metadata": {},
   "outputs": [
    {
     "data": {
      "text/plain": [
       "Text(0.5, 1.0, 'Type vs Fraud')"
      ]
     },
     "execution_count": 18,
     "metadata": {},
     "output_type": "execute_result"
    },
    {
     "data": {
      "image/png": "[encoded data removed]",
      "text/plain": [
       "<Figure size 640x480 with 2 Axes>"
      ]
     },
     "metadata": {},
     "output_type": "display_data"
    }
   ],
   "source": [
    "crosstab_data = pd.crosstab(f_df.type, f_df.isFraud)\n",
    "\n",
    "# Plot the heatmap\n",
    "sns.heatmap(crosstab_data, cmap='YlGnBu', annot=True, fmt='d')\n",
    "plt.title('Type vs Fraud')"
   ]
  },
  {
   "cell_type": "markdown",
   "id": "756f4109",
   "metadata": {},
   "source": [
    "<b>Insights:-</b>"
   ]
  },
  {
   "cell_type": "markdown",
   "id": "ee836c9e",
   "metadata": {},
   "source": [
    "Most of the fraud cases occurs in the types:- Transfer and Cash_out"
   ]
  },
  {
   "cell_type": "code",
   "execution_count": 19,
   "id": "9754bb95",
   "metadata": {},
   "outputs": [
    {
     "name": "stdout",
     "output_type": "stream",
     "text": [
      "Percentage of transfer fraud is:-0.3284792714163742%\n",
      "Percentage of cash_out fraud is:-0.07910338622296283%\n"
     ]
    }
   ],
   "source": [
    "tras=84051+277\n",
    "tras_fraud=277/(tras)*100\n",
    "cout=367582+291\n",
    "cout_fraud=291/(cout)*100\n",
    "print(f\"Percentage of transfer fraud is:-{tras_fraud}%\")\n",
    "print(f\"Percentage of cash_out fraud is:-{cout_fraud}%\")"
   ]
  },
  {
   "cell_type": "markdown",
   "id": "91b633f6",
   "metadata": {},
   "source": [
    "<b>Amount and Fraud</b>"
   ]
  },
  {
   "cell_type": "code",
   "execution_count": 20,
   "id": "f6337f4a",
   "metadata": {},
   "outputs": [
    {
     "data": {
      "text/plain": [
       "<Axes: title={'center': 'amount'}, xlabel='isFraud'>"
      ]
     },
     "execution_count": 20,
     "metadata": {},
     "output_type": "execute_result"
    },
    {
     "data": {
      "image/png": "[encoded data removed]",
      "text/plain": [
       "<Figure size 640x480 with 1 Axes>"
      ]
     },
     "metadata": {},
     "output_type": "display_data"
    }
   ],
   "source": [
    "f_df.boxplot(column='amount', by='isFraud')"
   ]
  },
  {
   "cell_type": "code",
   "execution_count": 21,
   "id": "c3c2b032",
   "metadata": {},
   "outputs": [
    {
     "data": {
      "text/plain": [
       "Text(0.5, 1.0, 'Fraud Cases by Amount Level')"
      ]
     },
     "execution_count": 21,
     "metadata": {},
     "output_type": "execute_result"
    },
    {
     "data": {
      "image/png": "[encoded data removed]",
      "text/plain": [
       "<Figure size 640x480 with 1 Axes>"
      ]
     },
     "metadata": {},
     "output_type": "display_data"
    }
   ],
   "source": [
    "fraud_data = f_df[f_df['isFraud'] == 1]\n",
    "\n",
    "# Create a histogram or bar plot\n",
    "bin_edges = [0, 100, 500, 1000, 5000, 10000, 50000, 100000, 500000,750000, 1000000]\n",
    "plt.hist(fraud_data['amount'], bins=bin_edges, edgecolor='black')\n",
    "\n",
    "# Set the axis labels and title\n",
    "plt.xlabel('Amount')\n",
    "plt.ylabel('Count')\n",
    "plt.title('Fraud Cases by Amount Level')\n",
    "\n",
    "\n"
   ]
  },
  {
   "cell_type": "markdown",
   "id": "c2ae8c8c",
   "metadata": {},
   "source": [
    "We observe that maximum fraud occurs in the amount range 1-5 lakh"
   ]
  },
  {
   "cell_type": "code",
   "execution_count": 22,
   "id": "cb6bd382",
   "metadata": {},
   "outputs": [
    {
     "name": "stdout",
     "output_type": "stream",
     "text": [
      "Minimum:  0.1\n",
      "Maximum:  10000000.0\n"
     ]
    }
   ],
   "source": [
    "print('Minimum: ',f_df.amount.min())\n",
    "print('Maximum: ',f_df.amount.max())"
   ]
  },
  {
   "cell_type": "markdown",
   "id": "3ff268a7",
   "metadata": {},
   "source": [
    "# Fraud Accounts"
   ]
  },
  {
   "cell_type": "markdown",
   "id": "3ada4bf8",
   "metadata": {},
   "source": [
    "Since most of the frauds are of the type Transfer and Cashout, we can say that the fraud amount goes into the fraudster account"
   ]
  },
  {
   "cell_type": "code",
   "execution_count": 23,
   "id": "bb510b45",
   "metadata": {},
   "outputs": [
    {
     "data": {
      "text/plain": [
       "C935310781     2\n",
       "C410033330     2\n",
       "C200064275     2\n",
       "C803116137     2\n",
       "C185805228     2\n",
       "              ..\n",
       "C1704707395    1\n",
       "C2025644484    1\n",
       "C849010584     1\n",
       "C26381896      1\n",
       "C966173999     1\n",
       "Name: nameDest, Length: 563, dtype: int64"
      ]
     },
     "execution_count": 23,
     "metadata": {},
     "output_type": "execute_result"
    }
   ],
   "source": [
    "fraudster=fraud_data.nameDest.value_counts()\n",
    "fraudster"
   ]
  },
  {
   "cell_type": "code",
   "execution_count": 24,
   "id": "5264589e",
   "metadata": {
    "scrolled": true
   },
   "outputs": [
    {
     "data": {
      "text/plain": [
       "<Axes: >"
      ]
     },
     "execution_count": 24,
     "metadata": {},
     "output_type": "execute_result"
    },
    {
     "data": {
      "image/png": "[encoded data removed]",
      "text/plain": [
       "<Figure size 640x480 with 1 Axes>"
      ]
     },
     "metadata": {},
     "output_type": "display_data"
    }
   ],
   "source": [
    "fraudster[:10].plot(kind='barh')"
   ]
  },
  {
   "cell_type": "markdown",
   "id": "85d6bf9b",
   "metadata": {},
   "source": [
    "# Machine Learning Algorith"
   ]
  },
  {
   "cell_type": "code",
   "execution_count": 25,
   "id": "8b49282c",
   "metadata": {},
   "outputs": [
    {
     "data": {
      "text/plain": [
       "0.0    1021992\n",
       "1.0        568\n",
       "Name: isFraud, dtype: int64"
      ]
     },
     "execution_count": 25,
     "metadata": {},
     "output_type": "execute_result"
    }
   ],
   "source": [
    "f_df[\"isFraud\"].value_counts()"
   ]
  },
  {
   "cell_type": "markdown",
   "id": "ef43491c",
   "metadata": {},
   "source": [
    "if the dataset is imbalanced, meaning that some classes have significantly fewer instances compared to others, it can lead to biased or inaccurate results. In such cases, sampling techniques like undersampling (reducing the majority class samples) or oversampling (increasing the minority class samples) are often used to address the class imbalance and improve the performance of the model or analysis."
   ]
  },
  {
   "cell_type": "markdown",
   "id": "74ba3c7c",
   "metadata": {},
   "source": [
    "# 1.Without Sampling"
   ]
  },
  {
   "cell_type": "code",
   "execution_count": 26,
   "id": "44d239b3",
   "metadata": {},
   "outputs": [
    {
     "data": {
      "text/html": [
       "<div>\n",
       "<style scoped>\n",
       "    .dataframe tbody tr th:only-of-type {\n",
       "        vertical-align: middle;\n",
       "    }\n",
       "\n",
       "    .dataframe tbody tr th {\n",
       "        vertical-align: top;\n",
       "    }\n",
       "\n",
       "    .dataframe thead th {\n",
       "        text-align: right;\n",
       "    }\n",
       "</style>\n",
       "<table border=\"1\" class=\"dataframe\">\n",
       "  <thead>\n",
       "    <tr style=\"text-align: right;\">\n",
       "      <th></th>\n",
       "      <th>step</th>\n",
       "      <th>type</th>\n",
       "      <th>amount</th>\n",
       "      <th>nameOrig</th>\n",
       "      <th>oldbalanceOrg</th>\n",
       "      <th>newbalanceOrig</th>\n",
       "      <th>nameDest</th>\n",
       "      <th>oldbalanceDest</th>\n",
       "      <th>newbalanceDest</th>\n",
       "      <th>isFraud</th>\n",
       "      <th>isFlaggedFraud</th>\n",
       "    </tr>\n",
       "  </thead>\n",
       "  <tbody>\n",
       "    <tr>\n",
       "      <th>0</th>\n",
       "      <td>1.0</td>\n",
       "      <td>PAYMENT</td>\n",
       "      <td>9839.64</td>\n",
       "      <td>C1231006815</td>\n",
       "      <td>170136.00</td>\n",
       "      <td>160296.36</td>\n",
       "      <td>M1979787155</td>\n",
       "      <td>0.00</td>\n",
       "      <td>0.00</td>\n",
       "      <td>0.0</td>\n",
       "      <td>0.0</td>\n",
       "    </tr>\n",
       "    <tr>\n",
       "      <th>1</th>\n",
       "      <td>1.0</td>\n",
       "      <td>PAYMENT</td>\n",
       "      <td>1864.28</td>\n",
       "      <td>C1666544295</td>\n",
       "      <td>21249.00</td>\n",
       "      <td>19384.72</td>\n",
       "      <td>M2044282225</td>\n",
       "      <td>0.00</td>\n",
       "      <td>0.00</td>\n",
       "      <td>0.0</td>\n",
       "      <td>0.0</td>\n",
       "    </tr>\n",
       "    <tr>\n",
       "      <th>2</th>\n",
       "      <td>1.0</td>\n",
       "      <td>TRANSFER</td>\n",
       "      <td>181.00</td>\n",
       "      <td>C1305486145</td>\n",
       "      <td>181.00</td>\n",
       "      <td>0.00</td>\n",
       "      <td>C553264065</td>\n",
       "      <td>0.00</td>\n",
       "      <td>0.00</td>\n",
       "      <td>1.0</td>\n",
       "      <td>0.0</td>\n",
       "    </tr>\n",
       "    <tr>\n",
       "      <th>3</th>\n",
       "      <td>1.0</td>\n",
       "      <td>CASH_OUT</td>\n",
       "      <td>181.00</td>\n",
       "      <td>C840083671</td>\n",
       "      <td>181.00</td>\n",
       "      <td>0.00</td>\n",
       "      <td>C38997010</td>\n",
       "      <td>21182.00</td>\n",
       "      <td>0.00</td>\n",
       "      <td>1.0</td>\n",
       "      <td>0.0</td>\n",
       "    </tr>\n",
       "    <tr>\n",
       "      <th>4</th>\n",
       "      <td>1.0</td>\n",
       "      <td>PAYMENT</td>\n",
       "      <td>11668.14</td>\n",
       "      <td>C2048537720</td>\n",
       "      <td>41554.00</td>\n",
       "      <td>29885.86</td>\n",
       "      <td>M1230701703</td>\n",
       "      <td>0.00</td>\n",
       "      <td>0.00</td>\n",
       "      <td>0.0</td>\n",
       "      <td>0.0</td>\n",
       "    </tr>\n",
       "    <tr>\n",
       "      <th>...</th>\n",
       "      <td>...</td>\n",
       "      <td>...</td>\n",
       "      <td>...</td>\n",
       "      <td>...</td>\n",
       "      <td>...</td>\n",
       "      <td>...</td>\n",
       "      <td>...</td>\n",
       "      <td>...</td>\n",
       "      <td>...</td>\n",
       "      <td>...</td>\n",
       "      <td>...</td>\n",
       "    </tr>\n",
       "    <tr>\n",
       "      <th>1022555</th>\n",
       "      <td>47.0</td>\n",
       "      <td>CASH_OUT</td>\n",
       "      <td>95001.40</td>\n",
       "      <td>C1754043162</td>\n",
       "      <td>182.00</td>\n",
       "      <td>0.00</td>\n",
       "      <td>C1688927068</td>\n",
       "      <td>1136028.63</td>\n",
       "      <td>1231030.03</td>\n",
       "      <td>0.0</td>\n",
       "      <td>0.0</td>\n",
       "    </tr>\n",
       "    <tr>\n",
       "      <th>1022556</th>\n",
       "      <td>47.0</td>\n",
       "      <td>PAYMENT</td>\n",
       "      <td>9625.61</td>\n",
       "      <td>C1665870412</td>\n",
       "      <td>15600.00</td>\n",
       "      <td>5974.39</td>\n",
       "      <td>M1417065075</td>\n",
       "      <td>0.00</td>\n",
       "      <td>0.00</td>\n",
       "      <td>0.0</td>\n",
       "      <td>0.0</td>\n",
       "    </tr>\n",
       "    <tr>\n",
       "      <th>1022557</th>\n",
       "      <td>47.0</td>\n",
       "      <td>PAYMENT</td>\n",
       "      <td>8581.00</td>\n",
       "      <td>C480579916</td>\n",
       "      <td>5050.00</td>\n",
       "      <td>0.00</td>\n",
       "      <td>M280843649</td>\n",
       "      <td>0.00</td>\n",
       "      <td>0.00</td>\n",
       "      <td>0.0</td>\n",
       "      <td>0.0</td>\n",
       "    </tr>\n",
       "    <tr>\n",
       "      <th>1022558</th>\n",
       "      <td>47.0</td>\n",
       "      <td>PAYMENT</td>\n",
       "      <td>8652.07</td>\n",
       "      <td>C706614416</td>\n",
       "      <td>41236.00</td>\n",
       "      <td>32583.93</td>\n",
       "      <td>M1268440714</td>\n",
       "      <td>0.00</td>\n",
       "      <td>0.00</td>\n",
       "      <td>0.0</td>\n",
       "      <td>0.0</td>\n",
       "    </tr>\n",
       "    <tr>\n",
       "      <th>1022559</th>\n",
       "      <td>47.0</td>\n",
       "      <td>CASH_OUT</td>\n",
       "      <td>74501.04</td>\n",
       "      <td>C2130807236</td>\n",
       "      <td>32583.93</td>\n",
       "      <td>0.00</td>\n",
       "      <td>C53831198</td>\n",
       "      <td>518965.64</td>\n",
       "      <td>593466.68</td>\n",
       "      <td>0.0</td>\n",
       "      <td>0.0</td>\n",
       "    </tr>\n",
       "  </tbody>\n",
       "</table>\n",
       "<p>1022560 rows × 11 columns</p>\n",
       "</div>"
      ],
      "text/plain": [
       "         step      type    amount     nameOrig  oldbalanceOrg  newbalanceOrig  \\\n",
       "0         1.0   PAYMENT   9839.64  C1231006815      170136.00       160296.36   \n",
       "1         1.0   PAYMENT   1864.28  C1666544295       21249.00        19384.72   \n",
       "2         1.0  TRANSFER    181.00  C1305486145         181.00            0.00   \n",
       "3         1.0  CASH_OUT    181.00   C840083671         181.00            0.00   \n",
       "4         1.0   PAYMENT  11668.14  C2048537720       41554.00        29885.86   \n",
       "...       ...       ...       ...          ...            ...             ...   \n",
       "1022555  47.0  CASH_OUT  95001.40  C1754043162         182.00            0.00   \n",
       "1022556  47.0   PAYMENT   9625.61  C1665870412       15600.00         5974.39   \n",
       "1022557  47.0   PAYMENT   8581.00   C480579916        5050.00            0.00   \n",
       "1022558  47.0   PAYMENT   8652.07   C706614416       41236.00        32583.93   \n",
       "1022559  47.0  CASH_OUT  74501.04  C2130807236       32583.93            0.00   \n",
       "\n",
       "            nameDest  oldbalanceDest  newbalanceDest  isFraud  isFlaggedFraud  \n",
       "0        M1979787155            0.00            0.00      0.0             0.0  \n",
       "1        M2044282225            0.00            0.00      0.0             0.0  \n",
       "2         C553264065            0.00            0.00      1.0             0.0  \n",
       "3          C38997010        21182.00            0.00      1.0             0.0  \n",
       "4        M1230701703            0.00            0.00      0.0             0.0  \n",
       "...              ...             ...             ...      ...             ...  \n",
       "1022555  C1688927068      1136028.63      1231030.03      0.0             0.0  \n",
       "1022556  M1417065075            0.00            0.00      0.0             0.0  \n",
       "1022557   M280843649            0.00            0.00      0.0             0.0  \n",
       "1022558  M1268440714            0.00            0.00      0.0             0.0  \n",
       "1022559    C53831198       518965.64       593466.68      0.0             0.0  \n",
       "\n",
       "[1022560 rows x 11 columns]"
      ]
     },
     "execution_count": 26,
     "metadata": {},
     "output_type": "execute_result"
    }
   ],
   "source": [
    "f_df"
   ]
  },
  {
   "cell_type": "markdown",
   "id": "6876dff4",
   "metadata": {},
   "source": [
    "We observe that the type has 5 different categorical values. Hence we need to do one hot encoding"
   ]
  },
  {
   "cell_type": "code",
   "execution_count": 27,
   "id": "7aa9222a",
   "metadata": {},
   "outputs": [],
   "source": [
    "enco_df1=pd.get_dummies(f_df['type'])\n",
    "enco_df=pd.concat([f_df, enco_df1], axis=1)\n"
   ]
  },
  {
   "cell_type": "code",
   "execution_count": 28,
   "id": "97c13778",
   "metadata": {},
   "outputs": [
    {
     "data": {
      "text/html": [
       "<div>\n",
       "<style scoped>\n",
       "    .dataframe tbody tr th:only-of-type {\n",
       "        vertical-align: middle;\n",
       "    }\n",
       "\n",
       "    .dataframe tbody tr th {\n",
       "        vertical-align: top;\n",
       "    }\n",
       "\n",
       "    .dataframe thead th {\n",
       "        text-align: right;\n",
       "    }\n",
       "</style>\n",
       "<table border=\"1\" class=\"dataframe\">\n",
       "  <thead>\n",
       "    <tr style=\"text-align: right;\">\n",
       "      <th></th>\n",
       "      <th>step</th>\n",
       "      <th>type</th>\n",
       "      <th>amount</th>\n",
       "      <th>nameOrig</th>\n",
       "      <th>oldbalanceOrg</th>\n",
       "      <th>newbalanceOrig</th>\n",
       "      <th>nameDest</th>\n",
       "      <th>oldbalanceDest</th>\n",
       "      <th>newbalanceDest</th>\n",
       "      <th>isFraud</th>\n",
       "      <th>isFlaggedFraud</th>\n",
       "      <th>CASH_IN</th>\n",
       "      <th>CASH_OUT</th>\n",
       "      <th>DEBIT</th>\n",
       "      <th>PAYMENT</th>\n",
       "      <th>TRANSFER</th>\n",
       "    </tr>\n",
       "  </thead>\n",
       "  <tbody>\n",
       "    <tr>\n",
       "      <th>0</th>\n",
       "      <td>1.0</td>\n",
       "      <td>PAYMENT</td>\n",
       "      <td>9839.64</td>\n",
       "      <td>C1231006815</td>\n",
       "      <td>170136.00</td>\n",
       "      <td>160296.36</td>\n",
       "      <td>M1979787155</td>\n",
       "      <td>0.00</td>\n",
       "      <td>0.00</td>\n",
       "      <td>0.0</td>\n",
       "      <td>0.0</td>\n",
       "      <td>0</td>\n",
       "      <td>0</td>\n",
       "      <td>0</td>\n",
       "      <td>1</td>\n",
       "      <td>0</td>\n",
       "    </tr>\n",
       "    <tr>\n",
       "      <th>1</th>\n",
       "      <td>1.0</td>\n",
       "      <td>PAYMENT</td>\n",
       "      <td>1864.28</td>\n",
       "      <td>C1666544295</td>\n",
       "      <td>21249.00</td>\n",
       "      <td>19384.72</td>\n",
       "      <td>M2044282225</td>\n",
       "      <td>0.00</td>\n",
       "      <td>0.00</td>\n",
       "      <td>0.0</td>\n",
       "      <td>0.0</td>\n",
       "      <td>0</td>\n",
       "      <td>0</td>\n",
       "      <td>0</td>\n",
       "      <td>1</td>\n",
       "      <td>0</td>\n",
       "    </tr>\n",
       "    <tr>\n",
       "      <th>2</th>\n",
       "      <td>1.0</td>\n",
       "      <td>TRANSFER</td>\n",
       "      <td>181.00</td>\n",
       "      <td>C1305486145</td>\n",
       "      <td>181.00</td>\n",
       "      <td>0.00</td>\n",
       "      <td>C553264065</td>\n",
       "      <td>0.00</td>\n",
       "      <td>0.00</td>\n",
       "      <td>1.0</td>\n",
       "      <td>0.0</td>\n",
       "      <td>0</td>\n",
       "      <td>0</td>\n",
       "      <td>0</td>\n",
       "      <td>0</td>\n",
       "      <td>1</td>\n",
       "    </tr>\n",
       "    <tr>\n",
       "      <th>3</th>\n",
       "      <td>1.0</td>\n",
       "      <td>CASH_OUT</td>\n",
       "      <td>181.00</td>\n",
       "      <td>C840083671</td>\n",
       "      <td>181.00</td>\n",
       "      <td>0.00</td>\n",
       "      <td>C38997010</td>\n",
       "      <td>21182.00</td>\n",
       "      <td>0.00</td>\n",
       "      <td>1.0</td>\n",
       "      <td>0.0</td>\n",
       "      <td>0</td>\n",
       "      <td>1</td>\n",
       "      <td>0</td>\n",
       "      <td>0</td>\n",
       "      <td>0</td>\n",
       "    </tr>\n",
       "    <tr>\n",
       "      <th>4</th>\n",
       "      <td>1.0</td>\n",
       "      <td>PAYMENT</td>\n",
       "      <td>11668.14</td>\n",
       "      <td>C2048537720</td>\n",
       "      <td>41554.00</td>\n",
       "      <td>29885.86</td>\n",
       "      <td>M1230701703</td>\n",
       "      <td>0.00</td>\n",
       "      <td>0.00</td>\n",
       "      <td>0.0</td>\n",
       "      <td>0.0</td>\n",
       "      <td>0</td>\n",
       "      <td>0</td>\n",
       "      <td>0</td>\n",
       "      <td>1</td>\n",
       "      <td>0</td>\n",
       "    </tr>\n",
       "    <tr>\n",
       "      <th>...</th>\n",
       "      <td>...</td>\n",
       "      <td>...</td>\n",
       "      <td>...</td>\n",
       "      <td>...</td>\n",
       "      <td>...</td>\n",
       "      <td>...</td>\n",
       "      <td>...</td>\n",
       "      <td>...</td>\n",
       "      <td>...</td>\n",
       "      <td>...</td>\n",
       "      <td>...</td>\n",
       "      <td>...</td>\n",
       "      <td>...</td>\n",
       "      <td>...</td>\n",
       "      <td>...</td>\n",
       "      <td>...</td>\n",
       "    </tr>\n",
       "    <tr>\n",
       "      <th>1022555</th>\n",
       "      <td>47.0</td>\n",
       "      <td>CASH_OUT</td>\n",
       "      <td>95001.40</td>\n",
       "      <td>C1754043162</td>\n",
       "      <td>182.00</td>\n",
       "      <td>0.00</td>\n",
       "      <td>C1688927068</td>\n",
       "      <td>1136028.63</td>\n",
       "      <td>1231030.03</td>\n",
       "      <td>0.0</td>\n",
       "      <td>0.0</td>\n",
       "      <td>0</td>\n",
       "      <td>1</td>\n",
       "      <td>0</td>\n",
       "      <td>0</td>\n",
       "      <td>0</td>\n",
       "    </tr>\n",
       "    <tr>\n",
       "      <th>1022556</th>\n",
       "      <td>47.0</td>\n",
       "      <td>PAYMENT</td>\n",
       "      <td>9625.61</td>\n",
       "      <td>C1665870412</td>\n",
       "      <td>15600.00</td>\n",
       "      <td>5974.39</td>\n",
       "      <td>M1417065075</td>\n",
       "      <td>0.00</td>\n",
       "      <td>0.00</td>\n",
       "      <td>0.0</td>\n",
       "      <td>0.0</td>\n",
       "      <td>0</td>\n",
       "      <td>0</td>\n",
       "      <td>0</td>\n",
       "      <td>1</td>\n",
       "      <td>0</td>\n",
       "    </tr>\n",
       "    <tr>\n",
       "      <th>1022557</th>\n",
       "      <td>47.0</td>\n",
       "      <td>PAYMENT</td>\n",
       "      <td>8581.00</td>\n",
       "      <td>C480579916</td>\n",
       "      <td>5050.00</td>\n",
       "      <td>0.00</td>\n",
       "      <td>M280843649</td>\n",
       "      <td>0.00</td>\n",
       "      <td>0.00</td>\n",
       "      <td>0.0</td>\n",
       "      <td>0.0</td>\n",
       "      <td>0</td>\n",
       "      <td>0</td>\n",
       "      <td>0</td>\n",
       "      <td>1</td>\n",
       "      <td>0</td>\n",
       "    </tr>\n",
       "    <tr>\n",
       "      <th>1022558</th>\n",
       "      <td>47.0</td>\n",
       "      <td>PAYMENT</td>\n",
       "      <td>8652.07</td>\n",
       "      <td>C706614416</td>\n",
       "      <td>41236.00</td>\n",
       "      <td>32583.93</td>\n",
       "      <td>M1268440714</td>\n",
       "      <td>0.00</td>\n",
       "      <td>0.00</td>\n",
       "      <td>0.0</td>\n",
       "      <td>0.0</td>\n",
       "      <td>0</td>\n",
       "      <td>0</td>\n",
       "      <td>0</td>\n",
       "      <td>1</td>\n",
       "      <td>0</td>\n",
       "    </tr>\n",
       "    <tr>\n",
       "      <th>1022559</th>\n",
       "      <td>47.0</td>\n",
       "      <td>CASH_OUT</td>\n",
       "      <td>74501.04</td>\n",
       "      <td>C2130807236</td>\n",
       "      <td>32583.93</td>\n",
       "      <td>0.00</td>\n",
       "      <td>C53831198</td>\n",
       "      <td>518965.64</td>\n",
       "      <td>593466.68</td>\n",
       "      <td>0.0</td>\n",
       "      <td>0.0</td>\n",
       "      <td>0</td>\n",
       "      <td>1</td>\n",
       "      <td>0</td>\n",
       "      <td>0</td>\n",
       "      <td>0</td>\n",
       "    </tr>\n",
       "  </tbody>\n",
       "</table>\n",
       "<p>1022560 rows × 16 columns</p>\n",
       "</div>"
      ],
      "text/plain": [
       "         step      type    amount     nameOrig  oldbalanceOrg  newbalanceOrig  \\\n",
       "0         1.0   PAYMENT   9839.64  C1231006815      170136.00       160296.36   \n",
       "1         1.0   PAYMENT   1864.28  C1666544295       21249.00        19384.72   \n",
       "2         1.0  TRANSFER    181.00  C1305486145         181.00            0.00   \n",
       "3         1.0  CASH_OUT    181.00   C840083671         181.00            0.00   \n",
       "4         1.0   PAYMENT  11668.14  C2048537720       41554.00        29885.86   \n",
       "...       ...       ...       ...          ...            ...             ...   \n",
       "1022555  47.0  CASH_OUT  95001.40  C1754043162         182.00            0.00   \n",
       "1022556  47.0   PAYMENT   9625.61  C1665870412       15600.00         5974.39   \n",
       "1022557  47.0   PAYMENT   8581.00   C480579916        5050.00            0.00   \n",
       "1022558  47.0   PAYMENT   8652.07   C706614416       41236.00        32583.93   \n",
       "1022559  47.0  CASH_OUT  74501.04  C2130807236       32583.93            0.00   \n",
       "\n",
       "            nameDest  oldbalanceDest  newbalanceDest  isFraud  isFlaggedFraud  \\\n",
       "0        M1979787155            0.00            0.00      0.0             0.0   \n",
       "1        M2044282225            0.00            0.00      0.0             0.0   \n",
       "2         C553264065            0.00            0.00      1.0             0.0   \n",
       "3          C38997010        21182.00            0.00      1.0             0.0   \n",
       "4        M1230701703            0.00            0.00      0.0             0.0   \n",
       "...              ...             ...             ...      ...             ...   \n",
       "1022555  C1688927068      1136028.63      1231030.03      0.0             0.0   \n",
       "1022556  M1417065075            0.00            0.00      0.0             0.0   \n",
       "1022557   M280843649            0.00            0.00      0.0             0.0   \n",
       "1022558  M1268440714            0.00            0.00      0.0             0.0   \n",
       "1022559    C53831198       518965.64       593466.68      0.0             0.0   \n",
       "\n",
       "         CASH_IN  CASH_OUT  DEBIT  PAYMENT  TRANSFER  \n",
       "0              0         0      0        1         0  \n",
       "1              0         0      0        1         0  \n",
       "2              0         0      0        0         1  \n",
       "3              0         1      0        0         0  \n",
       "4              0         0      0        1         0  \n",
       "...          ...       ...    ...      ...       ...  \n",
       "1022555        0         1      0        0         0  \n",
       "1022556        0         0      0        1         0  \n",
       "1022557        0         0      0        1         0  \n",
       "1022558        0         0      0        1         0  \n",
       "1022559        0         1      0        0         0  \n",
       "\n",
       "[1022560 rows x 16 columns]"
      ]
     },
     "execution_count": 28,
     "metadata": {},
     "output_type": "execute_result"
    }
   ],
   "source": [
    "enco_df"
   ]
  },
  {
   "cell_type": "code",
   "execution_count": 29,
   "id": "4ac47ddb",
   "metadata": {},
   "outputs": [
    {
     "data": {
      "text/plain": [
       "Index(['step', 'type', 'amount', 'nameOrig', 'oldbalanceOrg', 'newbalanceOrig',\n",
       "       'nameDest', 'oldbalanceDest', 'newbalanceDest', 'isFraud',\n",
       "       'isFlaggedFraud', 'CASH_IN', 'CASH_OUT', 'DEBIT', 'PAYMENT',\n",
       "       'TRANSFER'],\n",
       "      dtype='object')"
      ]
     },
     "execution_count": 29,
     "metadata": {},
     "output_type": "execute_result"
    }
   ],
   "source": [
    "enco_df.columns"
   ]
  },
  {
   "cell_type": "code",
   "execution_count": 30,
   "id": "1ca85a0d",
   "metadata": {},
   "outputs": [],
   "source": [
    "X=enco_df.drop(['isFraud', 'type', 'nameOrig', 'nameDest'], axis=1)"
   ]
  },
  {
   "cell_type": "code",
   "execution_count": 31,
   "id": "fbbe7bd2",
   "metadata": {},
   "outputs": [],
   "source": [
    "Y=enco_df['isFraud']"
   ]
  },
  {
   "cell_type": "code",
   "execution_count": 32,
   "id": "79f22bf4",
   "metadata": {},
   "outputs": [
    {
     "data": {
      "text/plain": [
       "(1022560, 12)"
      ]
     },
     "execution_count": 32,
     "metadata": {},
     "output_type": "execute_result"
    }
   ],
   "source": [
    "X.shape"
   ]
  },
  {
   "cell_type": "code",
   "execution_count": 51,
   "id": "0ec02a99",
   "metadata": {},
   "outputs": [
    {
     "data": {
      "text/plain": [
       "(1022560,)"
      ]
     },
     "execution_count": 51,
     "metadata": {},
     "output_type": "execute_result"
    }
   ],
   "source": [
    "Y.shape"
   ]
  },
  {
   "cell_type": "markdown",
   "id": "d2fbfa73",
   "metadata": {},
   "source": [
    "<b>Splitting data into Training set and Test set</b>"
   ]
  },
  {
   "cell_type": "code",
   "execution_count": 33,
   "id": "f228597b",
   "metadata": {},
   "outputs": [],
   "source": [
    "X_train, X_test, y_train, y_test = train_test_split(\n",
    "    X, Y, test_size=0.2, random_state=42)"
   ]
  },
  {
   "cell_type": "code",
   "execution_count": 34,
   "id": "47770115",
   "metadata": {},
   "outputs": [],
   "source": [
    "X_train, X_cv, y_train, y_cv = train_test_split(\n",
    "    X_train, y_train, test_size=0.2, random_state=42)"
   ]
  },
  {
   "cell_type": "code",
   "execution_count": 35,
   "id": "dff1d1eb",
   "metadata": {},
   "outputs": [],
   "source": [
    "from xgboost import XGBClassifier\n",
    "from sklearn.metrics import accuracy_score\n",
    "from sklearn.linear_model import LogisticRegression\n",
    "from sklearn.svm import SVC\n",
    "from sklearn.ensemble import RandomForestClassifier"
   ]
  },
  {
   "cell_type": "markdown",
   "id": "0c362880",
   "metadata": {},
   "source": [
    "# Logistic Regression"
   ]
  },
  {
   "cell_type": "code",
   "execution_count": 36,
   "id": "1676604f",
   "metadata": {},
   "outputs": [
    {
     "name": "stdout",
     "output_type": "stream",
     "text": [
      "Accuracy:-0.9995140868959321\n",
      "Accuracy:-0.9994865839496363\n"
     ]
    }
   ],
   "source": [
    "reg=LogisticRegression()\n",
    "Xset=[X_train,X_cv]\n",
    "Yset=[y_train,y_cv]\n",
    "for i in range(len(Xset)):\n",
    "    reg.fit(Xset[0],Yset[0])\n",
    "    y_pred=reg.predict(Xset[i])\n",
    "    train_acc=accuracy_score(Yset[i],y_pred)\n",
    "    print(f\"Accuracy:-{train_acc}\")\n",
    "    "
   ]
  },
  {
   "cell_type": "markdown",
   "id": "191e3444",
   "metadata": {},
   "source": [
    "# XGBoost"
   ]
  },
  {
   "cell_type": "code",
   "execution_count": 37,
   "id": "0cc847df",
   "metadata": {},
   "outputs": [
    {
     "name": "stdout",
     "output_type": "stream",
     "text": [
      "Accuracy:-0.9999694394274171\n",
      "Accuracy:-0.9998166371248701\n"
     ]
    }
   ],
   "source": [
    "XG=XGBClassifier()\n",
    "Xset=[X_train,X_cv]\n",
    "Yset=[y_train,y_cv]\n",
    "for i in range(len(Xset)):\n",
    "    XG.fit(Xset[0],Yset[0])\n",
    "    y_pred=XG.predict(Xset[i])\n",
    "    train_acc=accuracy_score(Yset[i],y_pred)\n",
    "    print(f\"Accuracy:-{train_acc}\")"
   ]
  },
  {
   "cell_type": "markdown",
   "id": "bfb9e3d3",
   "metadata": {},
   "source": [
    "# Random Forest Classifier"
   ]
  },
  {
   "cell_type": "code",
   "execution_count": 38,
   "id": "c65ec1d8",
   "metadata": {},
   "outputs": [
    {
     "name": "stdout",
     "output_type": "stream",
     "text": [
      "Accuracy:-0.9999969439427417\n",
      "Accuracy:-0.9997738524540065\n"
     ]
    }
   ],
   "source": [
    "rf= RandomForestClassifier(n_estimators=50, random_state=42)\n",
    "Xset=[X_train,X_cv]\n",
    "Yset=[y_train,y_cv]\n",
    "for i in range(len(Xset)):\n",
    "    rf.fit(Xset[0],Yset[0])\n",
    "    y_pred=rf.predict(Xset[i])\n",
    "    train_acc=accuracy_score(Yset[i],y_pred)\n",
    "    print(f\"Accuracy:-{train_acc}\")"
   ]
  },
  {
   "cell_type": "markdown",
   "id": "0eb0120e",
   "metadata": {},
   "source": [
    "# Performing Random Oversampling"
   ]
  },
  {
   "cell_type": "markdown",
   "id": "2cca69fe",
   "metadata": {},
   "source": [
    "We will do this because of the imbalance between y_train having value 1 and 0"
   ]
  },
  {
   "cell_type": "markdown",
   "id": "7d7198d2",
   "metadata": {},
   "source": [
    "Random oversampling involves randomly duplicating samples from the minority class (in this case, the samples with a value of 1) to match the count of the majority class samples (the samples with a value of 0). This technique also helps balance the class distribution."
   ]
  },
  {
   "cell_type": "code",
   "execution_count": 43,
   "id": "a27a6568",
   "metadata": {},
   "outputs": [],
   "source": [
    "from sklearn.utils import resample\n",
    "minority_samples = X[Y == 1]\n",
    "majority_samples = X[Y == 0]\n"
   ]
  },
  {
   "cell_type": "code",
   "execution_count": 44,
   "id": "c47c49ae",
   "metadata": {},
   "outputs": [
    {
     "data": {
      "text/plain": [
       "(568, 12)"
      ]
     },
     "execution_count": 44,
     "metadata": {},
     "output_type": "execute_result"
    }
   ],
   "source": [
    "minority_samples.shape"
   ]
  },
  {
   "cell_type": "code",
   "execution_count": 45,
   "id": "a409a1f7",
   "metadata": {},
   "outputs": [
    {
     "data": {
      "text/plain": [
       "(1021992, 12)"
      ]
     },
     "execution_count": 45,
     "metadata": {},
     "output_type": "execute_result"
    }
   ],
   "source": [
    "majority_samples.shape"
   ]
  },
  {
   "cell_type": "code",
   "execution_count": 48,
   "id": "538ff31b",
   "metadata": {},
   "outputs": [],
   "source": [
    "oversampled_minority_samples = resample(minority_samples,\n",
    "                                        replace=True,\n",
    "                                        n_samples=500000,\n",
    "                                        random_state=42)\n",
    "X_oversampled = np.concatenate((majority_samples, oversampled_minority_samples))\n",
    "y_oversampled = np.concatenate((np.zeros(len(majority_samples)),\n",
    "                                np.ones(len(oversampled_minority_samples))))"
   ]
  },
  {
   "cell_type": "code",
   "execution_count": 49,
   "id": "d184d19e",
   "metadata": {},
   "outputs": [
    {
     "data": {
      "text/plain": [
       "(1521992, 12)"
      ]
     },
     "execution_count": 49,
     "metadata": {},
     "output_type": "execute_result"
    }
   ],
   "source": [
    "X_oversampled.shape"
   ]
  },
  {
   "cell_type": "code",
   "execution_count": 50,
   "id": "0980e75c",
   "metadata": {},
   "outputs": [
    {
     "data": {
      "text/plain": [
       "(1521992,)"
      ]
     },
     "execution_count": 50,
     "metadata": {},
     "output_type": "execute_result"
    }
   ],
   "source": [
    "y_oversampled.shape"
   ]
  },
  {
   "cell_type": "code",
   "execution_count": 53,
   "id": "c18afa00",
   "metadata": {},
   "outputs": [],
   "source": [
    "X_tro, X_teo, y_tro, y_teo = train_test_split(\n",
    "    X_oversampled, y_oversampled, test_size=0.2, random_state=42)"
   ]
  },
  {
   "cell_type": "markdown",
   "id": "6615e50a",
   "metadata": {},
   "source": [
    "# Logistic Reg with Oversampling"
   ]
  },
  {
   "cell_type": "code",
   "execution_count": 54,
   "id": "39f96600",
   "metadata": {},
   "outputs": [
    {
     "name": "stdout",
     "output_type": "stream",
     "text": [
      "Accuracy:-0.9241183219680139\n",
      "Accuracy:-0.9246285303171167\n"
     ]
    }
   ],
   "source": [
    "reg=LogisticRegression()\n",
    "Xset=[X_tro,X_teo]\n",
    "Yset=[y_tro,y_teo]\n",
    "for i in range(len(Xset)):\n",
    "    reg.fit(Xset[0],Yset[0])\n",
    "    y_pred=reg.predict(Xset[i])\n",
    "    train_acc=accuracy_score(Yset[i],y_pred)\n",
    "    print(f\"Accuracy:-{train_acc}\")"
   ]
  },
  {
   "cell_type": "markdown",
   "id": "dc771a05",
   "metadata": {},
   "source": [
    "# XGBoost with Oversampling"
   ]
  },
  {
   "cell_type": "code",
   "execution_count": 55,
   "id": "356e8b97",
   "metadata": {},
   "outputs": [
    {
     "name": "stdout",
     "output_type": "stream",
     "text": [
      "Accuracy:-0.999888304219883\n",
      "Accuracy:-0.9998160309330846\n"
     ]
    }
   ],
   "source": [
    "XG=XGBClassifier()\n",
    "Xset=[X_tro,X_teo]\n",
    "Yset=[y_tro,y_teo]\n",
    "for i in range(len(Xset)):\n",
    "    XG.fit(Xset[0],Yset[0])\n",
    "    y_pred=XG.predict(Xset[i])\n",
    "    train_acc=accuracy_score(Yset[i],y_pred)\n",
    "    print(f\"Accuracy:-{train_acc}\")"
   ]
  },
  {
   "cell_type": "code",
   "execution_count": 60,
   "id": "dd9ea567",
   "metadata": {},
   "outputs": [
    {
     "name": "stdout",
     "output_type": "stream",
     "text": [
      "Accuracy:-1.0\n",
      "Accuracy:-0.9999901445142724\n"
     ]
    }
   ],
   "source": [
    "rf= RandomForestClassifier(n_estimators=50, random_state=42)\n",
    "Xset=[X_tro,X_teo]\n",
    "Yset=[y_tro,y_teo]\n",
    "for i in range(len(Xset)):\n",
    "    rf.fit(Xset[0],Yset[0])\n",
    "    y_pred=rf.predict(Xset[i])\n",
    "    train_acc=accuracy_score(Yset[i],y_pred)\n",
    "    print(f\"Accuracy:-{train_acc}\")"
   ]
  },
  {
   "cell_type": "code",
   "execution_count": null,
   "id": "bbcae64c",
   "metadata": {},
   "outputs": [],
   "source": []
  }
 ],
 "metadata": {
  "kernelspec": {
   "display_name": "Python 3 (ipykernel)",
   "language": "python",
   "name": "python3"
  },
  "language_info": {
   "codemirror_mode": {
    "name": "ipython",
    "version": 3
   },
   "file_extension": ".py",
   "mimetype": "text/x-python",
   "name": "python",
   "nbconvert_exporter": "python",
   "pygments_lexer": "ipython3",
   "version": "3.10.9"
  }
 },
 "nbformat": 4,
 "nbformat_minor": 5
}
